{
 "cells": [
  {
   "cell_type": "markdown",
   "metadata": {},
   "source": [
    "## Assignment-6"
   ]
  },
  {
   "cell_type": "code",
   "execution_count": 6,
   "metadata": {},
   "outputs": [
    {
     "name": "stdout",
     "output_type": "stream",
     "text": [
      "enter the number of terms required in the fibonacci series: 8\n",
      "Fibonacci series with 8 terms are:\n",
      "0\n",
      "1\n",
      "1\n",
      "2\n",
      "3\n",
      "5\n",
      "8\n",
      "13\n"
     ]
    }
   ],
   "source": [
    "# Write a Python Program to Display Fibonacci Sequence Using Recursion\n",
    "def fiboRecur(n):\n",
    "        if n<=1:\n",
    "            return n\n",
    "        else:\n",
    "            return(fiboRecur(n-1)+fiboRecur(n-2))\n",
    "\n",
    "limit = int(input(\"enter the number of terms required in the fibonacci series: \"))\n",
    "if limit>0:\n",
    "    print(f'Fibonacci series with {limit} terms are:')\n",
    "    for x in range(limit):\n",
    "        print(fiboRecur(x))\n",
    "else:\n",
    "    print(\"Invalid input\")"
   ]
  },
  {
   "cell_type": "code",
   "execution_count": 3,
   "metadata": {},
   "outputs": [
    {
     "name": "stdout",
     "output_type": "stream",
     "text": [
      "Enter a number5\n",
      "The factorial of 5 is 120\n"
     ]
    }
   ],
   "source": [
    "# Write a Python Program to Find Factorial of Number Using Recursion\n",
    "def factorial(n):\n",
    "    if n == 1:\n",
    "        return 1\n",
    "    else:\n",
    "        return (n * factorial(n-1))\n",
    "\n",
    "n = int(input(\"Enter a number\"))\n",
    "print(f'The factorial of {n} is {factorial(n)}')"
   ]
  },
  {
   "cell_type": "code",
   "execution_count": 7,
   "metadata": {},
   "outputs": [
    {
     "name": "stdout",
     "output_type": "stream",
     "text": [
      "Enter your height in meters: 1.79\n",
      "Enter your weight in Kilogram: 73.45\n",
      "Your body mass index is:  22.92\n"
     ]
    }
   ],
   "source": [
    "# Write a Python Program to calculate your Body Mass Index\n",
    "height = float(input(\"Enter your height in meters: \"))\n",
    "weight = float(input(\"Enter your weight in Kilogram: \"))\n",
    "print(\"Your body mass index is: \", round(weight / (height * height), 2))\n"
   ]
  },
  {
   "cell_type": "code",
   "execution_count": 8,
   "metadata": {},
   "outputs": [
    {
     "name": "stdout",
     "output_type": "stream",
     "text": [
      "Enter a positive number5.3\n",
      "Natural logarithm of  5.3 is  1.667706820558076\n"
     ]
    }
   ],
   "source": [
    "# Write a Python Program to calculate the natural logarithm of any number\n",
    "import math\n",
    "num = float(input(\"Enter a positive number\"))\n",
    "print(\"Natural logarithm of \",num,\"is \",math.log(num))"
   ]
  },
  {
   "cell_type": "code",
   "execution_count": 12,
   "metadata": {},
   "outputs": [
    {
     "name": "stdout",
     "output_type": "stream",
     "text": [
      "Enter the number of terms required in the cube sum of natural numbers: 8\n",
      "Cube sum of  8 natural numbers is  1296\n"
     ]
    }
   ],
   "source": [
    "# Write a Python Program for cube sum of first n natural numbers\n",
    "num1=int(input(\"Enter the number of terms required in the cube sum of natural numbers: \"))\n",
    "for i in range(1,num1+1):\n",
    "    sum1=int(((num1*(num1+1))/2))\n",
    "    cube_sum=sum1*sum1\n",
    "\n",
    "print(\"Cube sum of \",num1,\"natural numbers is \",cube_sum)"
   ]
  },
  {
   "cell_type": "code",
   "execution_count": null,
   "metadata": {},
   "outputs": [],
   "source": []
  }
 ],
 "metadata": {
  "kernelspec": {
   "display_name": "Python 3",
   "language": "python",
   "name": "python3"
  },
  "language_info": {
   "codemirror_mode": {
    "name": "ipython",
    "version": 3
   },
   "file_extension": ".py",
   "mimetype": "text/x-python",
   "name": "python",
   "nbconvert_exporter": "python",
   "pygments_lexer": "ipython3",
   "version": "3.7.7"
  }
 },
 "nbformat": 4,
 "nbformat_minor": 4
}
