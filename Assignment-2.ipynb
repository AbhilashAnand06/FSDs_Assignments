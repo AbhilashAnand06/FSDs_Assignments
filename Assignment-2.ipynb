{
 "cells": [
  {
   "cell_type": "markdown",
   "metadata": {},
   "source": [
    "## Assignment 2"
   ]
  },
  {
   "cell_type": "code",
   "execution_count": 1,
   "metadata": {},
   "outputs": [
    {
     "name": "stdout",
     "output_type": "stream",
     "text": [
      "Enter the distance in kilometers2\n",
      "The distance in miles is 1.2428\n"
     ]
    }
   ],
   "source": [
    "# Write a Python program to convert kilometers to miles\n",
    "\n",
    "kilo=float(input(\"Enter the distance in kilometers\"))\n",
    "mile=kilo*0.6214\n",
    "print(f'The distance in miles is {mile}')"
   ]
  },
  {
   "cell_type": "code",
   "execution_count": 2,
   "metadata": {},
   "outputs": [
    {
     "name": "stdout",
     "output_type": "stream",
     "text": [
      "Enter the temperature in Celsius:32\n",
      "The temperature in Fahrenheit is 89.6\n"
     ]
    }
   ],
   "source": [
    "# Write a Python program to convert Celsius to Fahrenheit\n",
    "\n",
    "Cel=float(input(\"Enter the temperature in Celsius:\"))\n",
    "F=(Cel*(9/5))+32\n",
    "print(f'The temperature in Fahrenheit is {F}')"
   ]
  },
  {
   "cell_type": "code",
   "execution_count": 3,
   "metadata": {},
   "outputs": [
    {
     "name": "stdout",
     "output_type": "stream",
     "text": [
      "Enter a year: 2012\n",
      "Enter a month (as a number): 11\n",
      "   November 2012\n",
      "Mo Tu We Th Fr Sa Su\n",
      "          1  2  3  4\n",
      " 5  6  7  8  9 10 11\n",
      "12 13 14 15 16 17 18\n",
      "19 20 21 22 23 24 25\n",
      "26 27 28 29 30\n",
      "\n"
     ]
    }
   ],
   "source": [
    "# Write a Python program to display calendar\n",
    "\n",
    "import calendar\n",
    "\n",
    "year = int(input(\"Enter a year: \"))\n",
    "mm = int(input(\"Enter a month (as a number): \"))\n",
    "\n",
    "print(calendar.month(year, mm))"
   ]
  },
  {
   "cell_type": "code",
   "execution_count": 4,
   "metadata": {},
   "outputs": [
    {
     "name": "stdout",
     "output_type": "stream",
     "text": [
      "Enter the values of the coefficients in the quadratic equation\n",
      "a:3\n",
      "b:6\n",
      "c:5\n",
      "The roots of the quadratic equation are (-9+7.348469228349534j) and (-9-7.348469228349534j)\n"
     ]
    }
   ],
   "source": [
    "# Write a Python program to solve quadratic equation\n",
    "\n",
    "import cmath\n",
    "print(\"Enter the values of the coefficients in the quadratic equation\")\n",
    "a=float(input(\"a:\"))\n",
    "b=float(input(\"b:\"))\n",
    "c=float(input(\"c:\"))\n",
    "dis=(b**2)-(4*a*c)\n",
    "r1=(-b + cmath.sqrt(dis))/2*a\n",
    "r2=(-b - cmath.sqrt(dis))/2*a\n",
    "print(f'The roots of the quadratic equation are {r1} and {r2}')"
   ]
  },
  {
   "cell_type": "code",
   "execution_count": 5,
   "metadata": {},
   "outputs": [
    {
     "name": "stdout",
     "output_type": "stream",
     "text": [
      "Enter the first number5\n",
      "Enter the second number10\n",
      "The first number is 10.0 and the second number is 5.0 after swapping\n"
     ]
    }
   ],
   "source": [
    "# Write a Python program to swap two variables without temp variable\n",
    "\n",
    "num1=int(input(\"Enter the first number\"))\n",
    "num2=int(input(\"Enter the second number\"))\n",
    "num1=num1*num2\n",
    "num2=num1/num2\n",
    "num1=num1/num2\n",
    "print(f'The first number is {num1} and the second number is {num2} after swapping')"
   ]
  },
  {
   "cell_type": "code",
   "execution_count": null,
   "metadata": {},
   "outputs": [],
   "source": []
  }
 ],
 "metadata": {
  "kernelspec": {
   "display_name": "Python 3",
   "language": "python",
   "name": "python3"
  },
  "language_info": {
   "codemirror_mode": {
    "name": "ipython",
    "version": 3
   },
   "file_extension": ".py",
   "mimetype": "text/x-python",
   "name": "python",
   "nbconvert_exporter": "python",
   "pygments_lexer": "ipython3",
   "version": "3.7.7"
  }
 },
 "nbformat": 4,
 "nbformat_minor": 4
}
