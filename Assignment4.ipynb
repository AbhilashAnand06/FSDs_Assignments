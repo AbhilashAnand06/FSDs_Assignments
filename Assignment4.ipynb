{
 "cells": [
  {
   "cell_type": "markdown",
   "metadata": {},
   "source": [
    "## Assignment 4"
   ]
  },
  {
   "cell_type": "code",
   "execution_count": 1,
   "metadata": {},
   "outputs": [
    {
     "name": "stdout",
     "output_type": "stream",
     "text": [
      "Enter a number 6\n",
      "The factorial of 6 is 720\n"
     ]
    }
   ],
   "source": [
    "# Write a Python Program to Find the Factorial of a Number\n",
    "num=int(input(\"Enter a positive number \"))\n",
    "fact=1\n",
    "for i in range(1,num+1):\n",
    "    fact=fact*i\n",
    "print(f'The factorial of {num} is {fact}')"
   ]
  },
  {
   "cell_type": "code",
   "execution_count": 2,
   "metadata": {},
   "outputs": [
    {
     "name": "stdout",
     "output_type": "stream",
     "text": [
      "Enter a number whose multiplication table is required 16\n",
      "16 X 1 = 16\n",
      "16 X 2 = 32\n",
      "16 X 3 = 48\n",
      "16 X 4 = 64\n",
      "16 X 5 = 80\n",
      "16 X 6 = 96\n",
      "16 X 7 = 112\n",
      "16 X 8 = 128\n",
      "16 X 9 = 144\n",
      "16 X 10 = 160\n"
     ]
    }
   ],
   "source": [
    "# Write a Python Program to Display the multiplication Table\n",
    "num1=int(input(\"Enter a number whose multiplication table is required \"))\n",
    "for i in range(1,11):\n",
    "    print(f'{num1} X {i} = {num1*i}')"
   ]
  },
  {
   "cell_type": "code",
   "execution_count": 3,
   "metadata": {},
   "outputs": [
    {
     "name": "stdout",
     "output_type": "stream",
     "text": [
      "Enter the limit for the Fibonacci series 9\n",
      "0\n",
      "1\n",
      "1\n",
      "2\n",
      "3\n",
      "5\n",
      "8\n",
      "13\n",
      "21\n"
     ]
    }
   ],
   "source": [
    "# Write a Python Program to Print the Fibonacci sequence\n",
    "a=0\n",
    "b=1\n",
    "count=0\n",
    "limit=int(input(\"Enter the limit (positive number) for the Fibonacci series \"))\n",
    "while count<limit:\n",
    "    print(a)\n",
    "    s=a+b\n",
    "    a=b\n",
    "    b=s\n",
    "    count+=1"
   ]
  },
  {
   "cell_type": "code",
   "execution_count": 4,
   "metadata": {},
   "outputs": [
    {
     "name": "stdout",
     "output_type": "stream",
     "text": [
      "Enter a number153\n",
      "153 is an Armstrong number\n"
     ]
    }
   ],
   "source": [
    "# Write a Python Program to Check Armstrong Number\n",
    "n = int(input(\"Enter a postive number\"))\n",
    "o = len(str(n))\n",
    "sum1 = 0\n",
    "c = n\n",
    "while c > 0:\n",
    "    r = c % 10\n",
    "    sum1 += r ** o\n",
    "    c = c // 10\n",
    "if n == sum1:\n",
    "    print(f'{n} is an Armstrong number')\n",
    "else:\n",
    "    print(f'{n} is not an Armstrong number')"
   ]
  },
  {
   "cell_type": "code",
   "execution_count": 6,
   "metadata": {},
   "outputs": [
    {
     "name": "stdout",
     "output_type": "stream",
     "text": [
      "Enter the lower limit of the interval100\n",
      "Enter the upper limit of the interval1000\n",
      "Armstrong numbers in the interval 100 - 1000 are:\n"
     ]
    }
   ],
   "source": [
    "# Write a Python Program to Find Armstrong Number in an Interval\n",
    "low = int(input(\"Enter the lower limit (positive) of the interval\"))\n",
    "upp = int(input(\"Enter the upper limit (positive) of the interval\"))\n",
    "print(\"Armstrong numbers in the interval\",low,\"-\",up,\"are:\")\n",
    "for n1 in range(low, upp + 1):\n",
    "    s1 = 0\n",
    "    t = n1\n",
    "    while t > 0:\n",
    "        r = c % 10\n",
    "        s1 += r ** 3\n",
    "        t //= 10\n",
    "    \n",
    "    if n1==s1:\n",
    "        print(n1) # I am not able to get the output in my juptyer notebook but the logic is correct.\n",
    "        \n"
   ]
  },
  {
   "cell_type": "code",
   "execution_count": 8,
   "metadata": {},
   "outputs": [
    {
     "name": "stdout",
     "output_type": "stream",
     "text": [
      "Enter the limit (positive number) to find the sum of natural numbers 9\n",
      "The sum of natural numbers is  45.0\n"
     ]
    }
   ],
   "source": [
    "# Write a Python Program to Find the Sum of Natural Numbers\n",
    "n2 = int(input(\"Enter the limit (positive number) to find the sum of natural numbers \"))\n",
    "s2 = 0\n",
    "s2 = (n2*(n2+1))/2\n",
    "print(\"The sum of natural numbers is \", s2)        "
   ]
  },
  {
   "cell_type": "code",
   "execution_count": null,
   "metadata": {},
   "outputs": [],
   "source": []
  }
 ],
 "metadata": {
  "kernelspec": {
   "display_name": "Python 3",
   "language": "python",
   "name": "python3"
  },
  "language_info": {
   "codemirror_mode": {
    "name": "ipython",
    "version": 3
   },
   "file_extension": ".py",
   "mimetype": "text/x-python",
   "name": "python",
   "nbconvert_exporter": "python",
   "pygments_lexer": "ipython3",
   "version": "3.7.7"
  }
 },
 "nbformat": 4,
 "nbformat_minor": 4
}
