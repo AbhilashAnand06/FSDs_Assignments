{
 "cells": [
  {
   "cell_type": "markdown",
   "metadata": {},
   "source": [
    "## Assignment-7"
   ]
  },
  {
   "cell_type": "code",
   "execution_count": 1,
   "metadata": {},
   "outputs": [
    {
     "name": "stdout",
     "output_type": "stream",
     "text": [
      "The sum of the array is  77.3\n"
     ]
    }
   ],
   "source": [
    "# Write a Python Program to find sum of array\n",
    "my_list=[1.3,4,67,5]\n",
    "s=0\n",
    "for i in my_list:\n",
    "    s=s+i\n",
    "\n",
    "print(\"The sum of the array is \",s)"
   ]
  },
  {
   "cell_type": "code",
   "execution_count": 4,
   "metadata": {},
   "outputs": [
    {
     "name": "stdout",
     "output_type": "stream",
     "text": [
      "Enter number of elements : 5\n",
      "\n",
      "Enter the numbers : 6 5 2 34 8\n",
      "\n",
      "List is -  [6, 5, 2, 34, 8]\n",
      "The largest element in the array is 34\n"
     ]
    }
   ],
   "source": [
    "# Write a Python Program to find largest element in an array\n",
    "\n",
    "no = int(input(\"Enter number of elements : \"))\n",
    "\n",
    "# Below line read inputs from user using map() function\n",
    "l = list(map(int,input(\"\\nEnter the numbers : \").strip().split()))[:no]\n",
    "\n",
    "print(\"\\nList is - \", l)\n",
    "\n",
    "maxi=l[0]\n",
    "for i in l:\n",
    "    if maxi<i:\n",
    "        maxi=i\n",
    "\n",
    "print(\"The largest element in the array is\", maxi)"
   ]
  },
  {
   "cell_type": "code",
   "execution_count": 8,
   "metadata": {},
   "outputs": [
    {
     "name": "stdout",
     "output_type": "stream",
     "text": [
      "Original array: \n",
      "1\n",
      "2\n",
      "3\n",
      "4\n",
      "5\n",
      "Array after left rotation: \n",
      "3\n",
      "4\n",
      "5\n",
      "1\n",
      "2\n"
     ]
    }
   ],
   "source": [
    "# Write a Python Program for array rotation\n",
    "\n",
    "     \n",
    "my_arr = [1, 2, 3, 4, 5]    \n",
    "  \n",
    "n = 2 #n- number of times an array should be rotated  \n",
    "        \n",
    "print(\"Original array: \")    \n",
    "for i in range(0, len(my_arr)):    \n",
    "    print(my_arr[i])     \n",
    "     \n",
    "#Left Rotation    \n",
    "for i in range(0, n):    \n",
    "       \n",
    "    f = my_arr[0]  #Stores the first element of the array   \n",
    "        \n",
    "    for j in range(0, len(my_arr)-1):    \n",
    "         \n",
    "        my_arr[j] = my_arr[j+1]   #Shift element of array by one    \n",
    "            \n",
    "    \n",
    "    my_arr[len(my_arr)-1] = f #First element of array will be added to the end       \n",
    "      \n",
    "    \n",
    "print(\"Array after left rotation: \")    \n",
    "for i in range(0, len(my_arr)):    \n",
    "    print(my_arr[i])   "
   ]
  },
  {
   "cell_type": "code",
   "execution_count": 9,
   "metadata": {},
   "outputs": [
    {
     "name": "stdout",
     "output_type": "stream",
     "text": [
      "Result array:  [30, 40, 50, 10, 20]\n"
     ]
    }
   ],
   "source": [
    "# Write a Python Program to Split the array and add the first part to the end\n",
    "\n",
    "my_l=[10,20,30,40,50]\n",
    "pos=2\n",
    "\n",
    "temp=my_l[:pos]\n",
    "result_l=my_l[pos:]+temp[:]\n",
    "\n",
    "print(\"Result array: \",result_l)"
   ]
  },
  {
   "cell_type": "code",
   "execution_count": 13,
   "metadata": {},
   "outputs": [
    {
     "name": "stdout",
     "output_type": "stream",
     "text": [
      "The array is Monotonic increasing\n"
     ]
    }
   ],
   "source": [
    "# Write a Python Program to check if given array is Monotonic\n",
    "arr=[1,3,5,9]\n",
    "\n",
    "flag_inc=0\n",
    "flag_dec=0\n",
    "\n",
    "for i in range(0,len(arr)-1):\n",
    "    if arr[i]<arr[i+1]: #checking if monotonic increasing\n",
    "        flag_inc+=1\n",
    "\n",
    "for i in range(0,len(arr)-1):\n",
    "    if arr[i]>arr[i+1]: #checking if monotonic decreasing\n",
    "        flag_dec+=1\n",
    "\n",
    "if flag_inc==(len(arr)-1):\n",
    "    print(\"The array is Monotonic increasing\")\n",
    "elif flag_dec==(len(arr)-1):\n",
    "    print(\"The array is Monotonic decreasing\")\n",
    "else:\n",
    "    print(\"The array is not Monotonic\")\n",
    "        "
   ]
  },
  {
   "cell_type": "code",
   "execution_count": 12,
   "metadata": {},
   "outputs": [
    {
     "name": "stdout",
     "output_type": "stream",
     "text": [
      "4\n"
     ]
    }
   ],
   "source": [
    "arr=[1,3,5,9]\n",
    "print(len(arr))"
   ]
  },
  {
   "cell_type": "code",
   "execution_count": null,
   "metadata": {},
   "outputs": [],
   "source": []
  }
 ],
 "metadata": {
  "kernelspec": {
   "display_name": "Python 3",
   "language": "python",
   "name": "python3"
  },
  "language_info": {
   "codemirror_mode": {
    "name": "ipython",
    "version": 3
   },
   "file_extension": ".py",
   "mimetype": "text/x-python",
   "name": "python",
   "nbconvert_exporter": "python",
   "pygments_lexer": "ipython3",
   "version": "3.7.7"
  }
 },
 "nbformat": 4,
 "nbformat_minor": 4
}
