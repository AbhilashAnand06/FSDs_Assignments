{
 "cells": [
  {
   "cell_type": "markdown",
   "metadata": {},
   "source": [
    "## Assignment-5"
   ]
  },
  {
   "cell_type": "code",
   "execution_count": 4,
   "metadata": {},
   "outputs": [
    {
     "name": "stdout",
     "output_type": "stream",
     "text": [
      "Enter the first number 36\n",
      "Enter the second number 72\n",
      "LCM of 36 and 72 is 72\n"
     ]
    }
   ],
   "source": [
    "# Write a Python Program to Find LCM\n",
    "n1=int(input(\"Enter the first number \"))\n",
    "n2=int(input(\"Enter the second number \"))\n",
    "if n1>n2:\n",
    "    greater=n1\n",
    "else:\n",
    "    greater=n2\n",
    "\n",
    "while(True):\n",
    "    if((greater%n1==0) and (greater%n2==0)):\n",
    "        lcm=greater\n",
    "        break\n",
    "        greater+=1\n",
    "print(f'LCM of {n1} and {n2} is {lcm}')"
   ]
  },
  {
   "cell_type": "code",
   "execution_count": 5,
   "metadata": {},
   "outputs": [
    {
     "name": "stdout",
     "output_type": "stream",
     "text": [
      "Enter the first number 24\n",
      "Enter the second number 42\n",
      "HCF of 24 and 42 is 6\n"
     ]
    }
   ],
   "source": [
    "# Write a Python Program to Find HCF\n",
    "n1=int(input(\"Enter the first number \"))\n",
    "n2=int(input(\"Enter the second number \"))\n",
    "if n1>n2:\n",
    "    smaller=n2\n",
    "else:\n",
    "    smaller=n1\n",
    "for i in range(1,smaller+1):\n",
    "    if((n1%i==0)and(n2%i==0)):\n",
    "        hcf=i\n",
    "print(f'HCF of {n1} and {n2} is {hcf}')\n",
    "    "
   ]
  },
  {
   "cell_type": "code",
   "execution_count": 8,
   "metadata": {},
   "outputs": [
    {
     "name": "stdout",
     "output_type": "stream",
     "text": [
      "Enter a positive decimal number65\n",
      "The value of 65 is: \n",
      "0b1000001 in binary.\n",
      "0o101 in octal.\n",
      "0x41 in hexadecimal.\n"
     ]
    }
   ],
   "source": [
    "# Write a Python Program to Convert Decimal to Binary, Octal and Hexadecimal\n",
    "deci=int(input(\"Enter a positive decimal number\"))\n",
    "print(f'The value of {deci} is: ')\n",
    "print(bin(deci), \"in binary.\")\n",
    "print(oct(deci), \"in octal.\")\n",
    "print(hex(deci), \"in hexadecimal.\")"
   ]
  },
  {
   "cell_type": "code",
   "execution_count": 12,
   "metadata": {},
   "outputs": [
    {
     "name": "stdout",
     "output_type": "stream",
     "text": [
      "Enter a character whose ASCII value is required T\n",
      "The ASCII value of  T is  84\n"
     ]
    }
   ],
   "source": [
    "# Write a Python Program To Find ASCII value of a character\n",
    "char=input(\"Enter a character whose ASCII value is required \")\n",
    "print(\"The ASCII value of \",char,\"is \", ord(char))"
   ]
  },
  {
   "cell_type": "code",
   "execution_count": 15,
   "metadata": {},
   "outputs": [
    {
     "name": "stdout",
     "output_type": "stream",
     "text": [
      "Select an operation: \n",
      "1. Addition\n",
      "2. Subtraction\n",
      "3. Multiplication\n",
      "4. Division\n",
      "Enter a value(1/2/3/4) :6\n",
      "Invalid value\n",
      "Enter a value(1/2/3/4) :3\n",
      "Enter a number9\n",
      "Enter another number8\n",
      "9 * 8 = 72\n"
     ]
    }
   ],
   "source": [
    "# Write a Python Program to Make a Simple Calculator with 4 basic mathematical operations\n",
    "def add(n1,n2):\n",
    "    return n1+n2\n",
    "def sub(n1,n2):\n",
    "    return n1-n2\n",
    "def mul(n1,n2):\n",
    "    return n1*n2\n",
    "def div(n1,n2):\n",
    "    return n1/n2\n",
    "\n",
    "print(\"Select an operation: \")\n",
    "print(\"1. Addition\")\n",
    "print(\"2. Subtraction\")\n",
    "print(\"3. Multiplication\")\n",
    "print(\"4. Division\")\n",
    "\n",
    "while(True):\n",
    "    inp = input(\"Enter a value(1/2/3/4) :\")\n",
    "    if inp in ('1','2','3','4'):\n",
    "        n1 = int(input(\"Enter a number\"))\n",
    "        n2 = int(input(\"Enter another number\"))\n",
    "        if inp == '1':\n",
    "            print(f'{n1} + {n2} = {add(n1,n2)}')\n",
    "        elif inp == '2':\n",
    "            print(f'{n1} - {n2} = {sub(n1,n2)}')\n",
    "        elif inp == '3':\n",
    "            print(f'{n1} * {n2} = {mul(n1,n2)}')\n",
    "        elif inp == '4':\n",
    "            print(f'{n1} / {n2} = {div(n1,n2)}')\n",
    "        break\n",
    "    else:\n",
    "        print(\"Invalid value\")\n",
    "    \n",
    "\n"
   ]
  },
  {
   "cell_type": "code",
   "execution_count": null,
   "metadata": {},
   "outputs": [],
   "source": []
  }
 ],
 "metadata": {
  "kernelspec": {
   "display_name": "Python 3",
   "language": "python",
   "name": "python3"
  },
  "language_info": {
   "codemirror_mode": {
    "name": "ipython",
    "version": 3
   },
   "file_extension": ".py",
   "mimetype": "text/x-python",
   "name": "python",
   "nbconvert_exporter": "python",
   "pygments_lexer": "ipython3",
   "version": "3.7.7"
  }
 },
 "nbformat": 4,
 "nbformat_minor": 4
}
