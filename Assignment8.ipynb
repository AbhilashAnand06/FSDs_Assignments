{
 "cells": [
  {
   "cell_type": "markdown",
   "metadata": {},
   "source": [
    "## Assignment-8"
   ]
  },
  {
   "cell_type": "code",
   "execution_count": 2,
   "metadata": {},
   "outputs": [
    {
     "name": "stdout",
     "output_type": "stream",
     "text": [
      "The summation matrix is:\n",
      "[3, 10, 10]\n",
      "[10, 13, 10]\n",
      "[11, 17, 12]\n"
     ]
    }
   ],
   "source": [
    "#Write a Python Program to Add Two Matrices\n",
    "m=[[1,2,3],\n",
    "[4,5,6],\n",
    "[7,8,9]]\n",
    "\n",
    "n=[[2,8,7],\n",
    "[6,8,4],\n",
    "[4,9,3]]\n",
    "\n",
    "sum_mat=[[0,0,0],\n",
    "[0,0,0],\n",
    "[0,0,0]]\n",
    "\n",
    "for i in range(0,len(m)):\n",
    "    for j in range(0,len(m[0])):\n",
    "        sum_mat[i][j]=m[i][j]+n[i][j]\n",
    "\n",
    "print(\"The summation matrix is:\")\n",
    "for x in sum_mat:\n",
    "    print(x)"
   ]
  },
  {
   "cell_type": "code",
   "execution_count": 3,
   "metadata": {},
   "outputs": [
    {
     "name": "stdout",
     "output_type": "stream",
     "text": [
      "[139, 53]\n",
      "[58, 20]\n",
      "[163, 59]\n"
     ]
    }
   ],
   "source": [
    "# Write a Python Program to Multiply Two Matrices\n",
    "\n",
    "p= [[3,7,8],\n",
    "    [4,1,2],\n",
    "    [9,5,6]]\n",
    "\n",
    "q = [[9,3],\n",
    "    [8,4],\n",
    "    [7,2]]\n",
    "\n",
    "mul = [[0,0],\n",
    "         [0,0],\n",
    "         [0,0]]\n",
    "\n",
    "# iterate through rows of X\n",
    "for i in range(len(p)):\n",
    "   # iterate through columns of Y\n",
    "   for j in range(len(q[0])):\n",
    "       # iterate through rows of Y\n",
    "       for k in range(len(q)):\n",
    "            mul[i][j] += p[i][k] * q[k][j]\n",
    "\n",
    "for b in mul:\n",
    "    print(b)"
   ]
  },
  {
   "cell_type": "code",
   "execution_count": 5,
   "metadata": {},
   "outputs": [
    {
     "name": "stdout",
     "output_type": "stream",
     "text": [
      "[9, 8, 7]\n",
      "[3, 4, 2]\n"
     ]
    }
   ],
   "source": [
    "# Write a Python Program to Transpose a Matrix\n",
    "\n",
    "t = [[9,3],\n",
    "    [8,4],\n",
    "    [7,2]]\n",
    "\n",
    "res=[[0,0,0],\n",
    "     [0,0,0]]\n",
    "\n",
    "for i in range(len(t)):\n",
    "    for j in range(len(t[0])):\n",
    "        res[j][i]=t[i][j]\n",
    "        \n",
    "for r in res:\n",
    "    print(r)"
   ]
  },
  {
   "cell_type": "code",
   "execution_count": 10,
   "metadata": {},
   "outputs": [
    {
     "name": "stdout",
     "output_type": "stream",
     "text": [
      "Enter a sentence: What a beautiful place I am thriving in\n",
      "The words sorted in alphabetical order:\n",
      "a\n",
      "am\n",
      "beautiful\n",
      "i\n",
      "in\n",
      "place\n",
      "thriving\n",
      "what\n"
     ]
    }
   ],
   "source": [
    "# Write a Python Program to Sort Words in Alphabetic Order\n",
    "\n",
    "words = input(\"Enter a sentence: \")\n",
    "\n",
    "alpha_words=[]\n",
    "for w in words.split():\n",
    "        alpha_words.append(w.lower())\n",
    "\n",
    "alpha_words.sort()\n",
    "\n",
    "print(\"The words sorted in alphabetical order:\")\n",
    "for x in alpha_words:\n",
    "    print(x)"
   ]
  },
  {
   "cell_type": "code",
   "execution_count": null,
   "metadata": {},
   "outputs": [],
   "source": [
    "# Write a Python Program to Remove Punctuation From a String\n",
    "punctuations = '''!()-[]{};:'\"\\,<>./?@#$%^&*_~'''\n",
    "sent = input(\"Enter a sentence with punctuations: \")\n",
    "\n",
    "for char in sent:\n",
    "    if char in punctuations:\n",
    "        sent = sent.replace(char,\"\")\n",
    "\n",
    "print(\"Sentence without punctuations:\", sent)"
   ]
  },
  {
   "cell_type": "code",
   "execution_count": null,
   "metadata": {},
   "outputs": [],
   "source": []
  }
 ],
 "metadata": {
  "kernelspec": {
   "display_name": "Python 3",
   "language": "python",
   "name": "python3"
  },
  "language_info": {
   "codemirror_mode": {
    "name": "ipython",
    "version": 3
   },
   "file_extension": ".py",
   "mimetype": "text/x-python",
   "name": "python",
   "nbconvert_exporter": "python",
   "pygments_lexer": "ipython3",
   "version": "3.7.7"
  }
 },
 "nbformat": 4,
 "nbformat_minor": 4
}
