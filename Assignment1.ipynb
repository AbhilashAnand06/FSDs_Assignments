{
 "cells": [
  {
   "cell_type": "markdown",
   "metadata": {},
   "source": [
    "## Python Programming Basic Assignments "
   ]
  },
  {
   "cell_type": "markdown",
   "metadata": {},
   "source": [
    "## Assignment 1"
   ]
  },
  {
   "cell_type": "code",
   "execution_count": 1,
   "metadata": {},
   "outputs": [
    {
     "name": "stdout",
     "output_type": "stream",
     "text": [
      "Hello Python\n"
     ]
    }
   ],
   "source": [
    "# Write a Python program to print \"Hello Python\"\n",
    "print(\"Hello Python\")"
   ]
  },
  {
   "cell_type": "code",
   "execution_count": 3,
   "metadata": {},
   "outputs": [
    {
     "name": "stdout",
     "output_type": "stream",
     "text": [
      "Sum: 15\n",
      "Quotient: 0.5\n"
     ]
    }
   ],
   "source": [
    "# Write a Python program to do arithmetical operations addition and division.\n",
    "\n",
    "a=5\n",
    "b=10\n",
    "s=a+b\n",
    "d=a/b\n",
    "print(\"Sum:\",s)\n",
    "print(\"Quotient:\",d)\n"
   ]
  },
  {
   "cell_type": "code",
   "execution_count": 11,
   "metadata": {},
   "outputs": [
    {
     "name": "stdout",
     "output_type": "stream",
     "text": [
      "Enter a value for the base of the triangle3\n",
      "Enter a value for the height of the triangle2\n",
      "Area of the triangle: 3.0\n"
     ]
    }
   ],
   "source": [
    "# Write a Python program to find the area of a triangle\n",
    "\n",
    "base = float(input(\"Enter a value for the base of the triangle\"))\n",
    "height = float(input(\"Enter a value for the height of the triangle\"))\n",
    "area =  (base * height)/2\n",
    "print(\"Area of the triangle:\",area)"
   ]
  },
  {
   "cell_type": "code",
   "execution_count": 12,
   "metadata": {},
   "outputs": [
    {
     "name": "stdout",
     "output_type": "stream",
     "text": [
      "Enter a number3\n",
      "Enter another number4\n",
      "3 is the first number\n",
      "4 is the second number\n",
      "4 is the first number after swapping\n",
      "3 is the second number after swapping\n"
     ]
    }
   ],
   "source": [
    "# Write a Python program to swap two variables\n",
    "\n",
    "n1 = int(input(\"Enter a number\"))\n",
    "n2 = int(input(\"Enter another number\"))\n",
    "print(f'{n1} is the first number')\n",
    "print(f'{n2} is the second number')\n",
    "c=0\n",
    "c=n1\n",
    "n1=n2\n",
    "n2=c\n",
    "print(f'{n1} is the first number after swapping')\n",
    "print(f'{n2} is the second number after swapping')"
   ]
  },
  {
   "cell_type": "code",
   "execution_count": 14,
   "metadata": {},
   "outputs": [
    {
     "name": "stdout",
     "output_type": "stream",
     "text": [
      "48653\n"
     ]
    }
   ],
   "source": [
    "# Write a Python program to generate a random number\n",
    "\n",
    "import random\n",
    "print(random.randint(0,100000))"
   ]
  },
  {
   "cell_type": "code",
   "execution_count": null,
   "metadata": {},
   "outputs": [],
   "source": []
  }
 ],
 "metadata": {
  "kernelspec": {
   "display_name": "Python 3",
   "language": "python",
   "name": "python3"
  },
  "language_info": {
   "codemirror_mode": {
    "name": "ipython",
    "version": 3
   },
   "file_extension": ".py",
   "mimetype": "text/x-python",
   "name": "python",
   "nbconvert_exporter": "python",
   "pygments_lexer": "ipython3",
   "version": "3.7.7"
  }
 },
 "nbformat": 4,
 "nbformat_minor": 4
}
